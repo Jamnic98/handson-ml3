{
 "cells": [
  {
   "cell_type": "code",
   "execution_count": 88,
   "id": "32606b3f-329f-4011-a322-ab79b437c471",
   "metadata": {},
   "outputs": [],
   "source": [
    "import numpy as np\n",
    "import pandas as pd\n",
    "import matplotlib.pyplot as plt\n",
    "from sklearn.datasets import load_iris\n",
    "from sklearn.model_selection import train_test_split, GridSearchCV\n",
    "from sklearn.pipeline import Pipeline\n",
    "from sklearn.cluster import KMeans"
   ]
  },
  {
   "cell_type": "code",
   "execution_count": 89,
   "id": "c4e956d5-e9e2-41cc-9ad6-419af613987d",
   "metadata": {},
   "outputs": [],
   "source": [
    "from sklearn.metrics import confusion_matrix, accuracy_score"
   ]
  },
  {
   "cell_type": "code",
   "execution_count": 90,
   "id": "17e123f5-b67a-472b-8a78-eae136993fbf",
   "metadata": {},
   "outputs": [],
   "source": [
    "iris_dataset = load_iris()"
   ]
  },
  {
   "cell_type": "code",
   "execution_count": 91,
   "id": "5424cf98-d027-4887-9d52-23b8b55c59f0",
   "metadata": {},
   "outputs": [],
   "source": [
    "data = iris_dataset.data\n",
    "target_names = iris_dataset.target_names\n",
    "\n",
    "target = iris_dataset.target\n",
    "feature_names = iris_dataset.feature_names"
   ]
  },
  {
   "cell_type": "code",
   "execution_count": 92,
   "id": "c1194260-2a76-47ff-855e-54db06e1a3be",
   "metadata": {},
   "outputs": [
    {
     "data": {
      "text/plain": [
       "['sepal length (cm)',\n",
       " 'sepal width (cm)',\n",
       " 'petal length (cm)',\n",
       " 'petal width (cm)']"
      ]
     },
     "execution_count": 92,
     "metadata": {},
     "output_type": "execute_result"
    }
   ],
   "source": [
    "iris_dataset.feature_names"
   ]
  },
  {
   "cell_type": "code",
   "execution_count": 93,
   "id": "35c34ebc-3a20-4963-a14f-aa5d688beebd",
   "metadata": {
    "scrolled": true
   },
   "outputs": [],
   "source": [
    "X = pd.DataFrame(data, columns=feature_names)"
   ]
  },
  {
   "cell_type": "code",
   "execution_count": 94,
   "id": "d1547fd8-a53a-4b8f-b844-86fd5aeebef9",
   "metadata": {},
   "outputs": [],
   "source": [
    "y = pd.DataFrame(target)"
   ]
  },
  {
   "cell_type": "code",
   "execution_count": 95,
   "id": "1957da52-d3e6-48bd-b710-f1fa6c7405da",
   "metadata": {
    "scrolled": true
   },
   "outputs": [],
   "source": [
    "X_train, X_test, y_train, y_test = train_test_split(X, target, random_state=42, train_size=0.8)"
   ]
  },
  {
   "cell_type": "code",
   "execution_count": 96,
   "id": "51782a49-36bd-4b8c-9b55-200a64d7d8fa",
   "metadata": {},
   "outputs": [],
   "source": [
    "k_means = KMeans(n_init='auto', n_clusters=3, random_state=42)"
   ]
  },
  {
   "cell_type": "code",
   "execution_count": 97,
   "id": "bdcb56a0-4590-4b3f-bf5d-0b7c3d753748",
   "metadata": {
    "scrolled": true
   },
   "outputs": [],
   "source": [
    "k_means_model = k_means.fit(X_train)"
   ]
  },
  {
   "cell_type": "code",
   "execution_count": 98,
   "id": "72b661b4-4cc0-4e84-8b60-44c32923dba7",
   "metadata": {
    "scrolled": true
   },
   "outputs": [],
   "source": [
    "predictions = k_means_model.predict(X_train)"
   ]
  },
  {
   "cell_type": "code",
   "execution_count": 99,
   "id": "2256717f-89b7-4949-9bac-c7742c3643c2",
   "metadata": {
    "scrolled": true
   },
   "outputs": [
    {
     "data": {
      "text/plain": [
       "array([[5.64333333, 2.67666667, 4.06      , 1.26      ],\n",
       "       [4.99      , 3.4525    , 1.45      , 0.245     ],\n",
       "       [6.564     , 2.98      , 5.348     , 1.888     ]])"
      ]
     },
     "execution_count": 99,
     "metadata": {},
     "output_type": "execute_result"
    }
   ],
   "source": [
    "k_means_model.cluster_centers_"
   ]
  },
  {
   "cell_type": "code",
   "execution_count": 100,
   "id": "be95e717-db52-431e-adba-012121445b11",
   "metadata": {},
   "outputs": [
    {
     "data": {
      "text/html": [
       "<div>\n",
       "<style scoped>\n",
       "    .dataframe tbody tr th:only-of-type {\n",
       "        vertical-align: middle;\n",
       "    }\n",
       "\n",
       "    .dataframe tbody tr th {\n",
       "        vertical-align: top;\n",
       "    }\n",
       "\n",
       "    .dataframe thead th {\n",
       "        text-align: right;\n",
       "    }\n",
       "</style>\n",
       "<table border=\"1\" class=\"dataframe\">\n",
       "  <thead>\n",
       "    <tr style=\"text-align: right;\">\n",
       "      <th></th>\n",
       "      <th>sepal length (cm)</th>\n",
       "      <th>sepal width (cm)</th>\n",
       "      <th>petal length (cm)</th>\n",
       "      <th>petal width (cm)</th>\n",
       "    </tr>\n",
       "  </thead>\n",
       "  <tbody>\n",
       "    <tr>\n",
       "      <th>22</th>\n",
       "      <td>4.6</td>\n",
       "      <td>3.6</td>\n",
       "      <td>1.0</td>\n",
       "      <td>0.2</td>\n",
       "    </tr>\n",
       "    <tr>\n",
       "      <th>15</th>\n",
       "      <td>5.7</td>\n",
       "      <td>4.4</td>\n",
       "      <td>1.5</td>\n",
       "      <td>0.4</td>\n",
       "    </tr>\n",
       "    <tr>\n",
       "      <th>65</th>\n",
       "      <td>6.7</td>\n",
       "      <td>3.1</td>\n",
       "      <td>4.4</td>\n",
       "      <td>1.4</td>\n",
       "    </tr>\n",
       "    <tr>\n",
       "      <th>11</th>\n",
       "      <td>4.8</td>\n",
       "      <td>3.4</td>\n",
       "      <td>1.6</td>\n",
       "      <td>0.2</td>\n",
       "    </tr>\n",
       "    <tr>\n",
       "      <th>42</th>\n",
       "      <td>4.4</td>\n",
       "      <td>3.2</td>\n",
       "      <td>1.3</td>\n",
       "      <td>0.2</td>\n",
       "    </tr>\n",
       "    <tr>\n",
       "      <th>...</th>\n",
       "      <td>...</td>\n",
       "      <td>...</td>\n",
       "      <td>...</td>\n",
       "      <td>...</td>\n",
       "    </tr>\n",
       "    <tr>\n",
       "      <th>71</th>\n",
       "      <td>6.1</td>\n",
       "      <td>2.8</td>\n",
       "      <td>4.0</td>\n",
       "      <td>1.3</td>\n",
       "    </tr>\n",
       "    <tr>\n",
       "      <th>106</th>\n",
       "      <td>4.9</td>\n",
       "      <td>2.5</td>\n",
       "      <td>4.5</td>\n",
       "      <td>1.7</td>\n",
       "    </tr>\n",
       "    <tr>\n",
       "      <th>14</th>\n",
       "      <td>5.8</td>\n",
       "      <td>4.0</td>\n",
       "      <td>1.2</td>\n",
       "      <td>0.2</td>\n",
       "    </tr>\n",
       "    <tr>\n",
       "      <th>92</th>\n",
       "      <td>5.8</td>\n",
       "      <td>2.6</td>\n",
       "      <td>4.0</td>\n",
       "      <td>1.2</td>\n",
       "    </tr>\n",
       "    <tr>\n",
       "      <th>102</th>\n",
       "      <td>7.1</td>\n",
       "      <td>3.0</td>\n",
       "      <td>5.9</td>\n",
       "      <td>2.1</td>\n",
       "    </tr>\n",
       "  </tbody>\n",
       "</table>\n",
       "<p>120 rows × 4 columns</p>\n",
       "</div>"
      ],
      "text/plain": [
       "     sepal length (cm)  sepal width (cm)  petal length (cm)  petal width (cm)\n",
       "22                 4.6               3.6                1.0               0.2\n",
       "15                 5.7               4.4                1.5               0.4\n",
       "65                 6.7               3.1                4.4               1.4\n",
       "11                 4.8               3.4                1.6               0.2\n",
       "42                 4.4               3.2                1.3               0.2\n",
       "..                 ...               ...                ...               ...\n",
       "71                 6.1               2.8                4.0               1.3\n",
       "106                4.9               2.5                4.5               1.7\n",
       "14                 5.8               4.0                1.2               0.2\n",
       "92                 5.8               2.6                4.0               1.2\n",
       "102                7.1               3.0                5.9               2.1\n",
       "\n",
       "[120 rows x 4 columns]"
      ]
     },
     "execution_count": 100,
     "metadata": {},
     "output_type": "execute_result"
    }
   ],
   "source": [
    "X_train"
   ]
  },
  {
   "cell_type": "code",
   "execution_count": 101,
   "id": "25401b1b-868b-4864-bd8f-ef8b7a62fe6d",
   "metadata": {},
   "outputs": [
    {
     "data": {
      "text/plain": [
       "array([1, 1, 2, 1, 1, 2, 2, 1, 1, 1, 2, 0, 2, 1, 1, 0, 2, 2, 2, 2, 0, 2,\n",
       "       0, 1, 2, 0, 1, 1, 1, 0, 2, 1, 1, 1, 0, 1, 0, 2, 1, 0, 2, 1, 2, 2,\n",
       "       0, 0, 2, 0, 1, 0, 2, 1, 1, 0, 2, 1, 2, 1, 1, 2, 0, 2, 2, 2, 2, 0,\n",
       "       1, 1, 2, 2, 1, 1, 1, 2, 2, 1, 2, 2, 1, 0, 2, 2, 2, 2, 1, 2, 0, 2,\n",
       "       0, 0, 0, 1, 2, 0, 1, 0, 2, 2, 1, 0, 2, 2, 1, 2, 1, 2, 2, 2, 0, 2,\n",
       "       0, 0, 2, 2, 1, 0, 0, 1, 0, 2], dtype=int32)"
      ]
     },
     "execution_count": 101,
     "metadata": {},
     "output_type": "execute_result"
    }
   ],
   "source": [
    "predictions"
   ]
  },
  {
   "cell_type": "code",
   "execution_count": 102,
   "id": "ffd1846c-8077-4595-8dad-34fe99c36848",
   "metadata": {},
   "outputs": [
    {
     "data": {
      "text/plain": [
       "array([0, 0, 1, 0, 0, 2, 1, 0, 0, 0, 2, 1, 1, 0, 0, 1, 2, 2, 1, 2, 1, 2,\n",
       "       1, 0, 2, 1, 0, 0, 0, 1, 2, 0, 0, 0, 1, 0, 1, 2, 0, 1, 2, 0, 2, 2,\n",
       "       1, 1, 2, 1, 0, 1, 2, 0, 0, 1, 1, 0, 2, 0, 0, 1, 1, 2, 1, 2, 2, 1,\n",
       "       0, 0, 2, 2, 0, 0, 0, 1, 2, 0, 2, 2, 0, 1, 1, 2, 1, 2, 0, 2, 1, 2,\n",
       "       1, 1, 1, 0, 1, 1, 0, 1, 2, 2, 0, 1, 2, 2, 0, 2, 0, 1, 2, 2, 1, 2,\n",
       "       1, 1, 2, 2, 0, 1, 2, 0, 1, 2])"
      ]
     },
     "execution_count": 102,
     "metadata": {},
     "output_type": "execute_result"
    }
   ],
   "source": [
    "y_train"
   ]
  },
  {
   "cell_type": "code",
   "execution_count": 103,
   "id": "86d4dd59-16fd-4547-a7d5-986349971ea9",
   "metadata": {
    "scrolled": true
   },
   "outputs": [
    {
     "data": {
      "text/plain": [
       "0.31666666666666665"
      ]
     },
     "execution_count": 103,
     "metadata": {},
     "output_type": "execute_result"
    }
   ],
   "source": [
    "accuracy_score(y_train, predictions)"
   ]
  }
 ],
 "metadata": {
  "kernelspec": {
   "display_name": "Python 3 (ipykernel)",
   "language": "python",
   "name": "python3"
  },
  "language_info": {
   "codemirror_mode": {
    "name": "ipython",
    "version": 3
   },
   "file_extension": ".py",
   "mimetype": "text/x-python",
   "name": "python",
   "nbconvert_exporter": "python",
   "pygments_lexer": "ipython3",
   "version": "3.10.16"
  }
 },
 "nbformat": 4,
 "nbformat_minor": 5
}
