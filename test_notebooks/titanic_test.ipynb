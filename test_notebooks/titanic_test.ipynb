{
 "cells": [
  {
   "cell_type": "code",
   "execution_count": 32,
   "id": "ba9839f0-035b-4e42-b752-f2d5c302023f",
   "metadata": {},
   "outputs": [
    {
     "name": "stdout",
     "output_type": "stream",
     "text": [
      "/home/jamnic/programming/handson-ml3/test_notebooks\n"
     ]
    }
   ],
   "source": [
    "    !pwd\n",
    "%matplotlib inline"
   ]
  },
  {
   "cell_type": "code",
   "execution_count": 33,
   "id": "03d02e03-f8c9-456f-b9b9-bee3fb9173e9",
   "metadata": {},
   "outputs": [],
   "source": [
    "import os\n",
    "import numpy as np\n",
    "import pandas as pd\n",
    "from pandas.plotting import scatter_matrix\n",
    "\n",
    "from sklearn.model_selection import GridSearchCV, RandomizedSearchCV, train_test_split\n",
    "from sklearn.pipeline import Pipeline\n",
    "from sklearn.metrics import accuracy_score, f1_score, confusion_matrix\n",
    "from sklearn.preprocessing import OneHotEncoder, OrdinalEncoder, StandardScaler\n",
    "\n",
    "import matplotlib.pyplot as plt"
   ]
  },
  {
   "cell_type": "code",
   "execution_count": 34,
   "id": "5b7ce4df-c985-438b-827a-edfaf57fcc79",
   "metadata": {},
   "outputs": [],
   "source": [
    "data_dir = os.path.join(os.getcwd(), '..', 'datasets', 'titanic')\n",
    "train_data = pd.read_csv(os.path.join(data_dir, 'train.csv'))\n",
    "test_data = pd.read_csv(os.path.join(data_dir, 'test.csv'))"
   ]
  },
  {
   "cell_type": "code",
   "execution_count": 35,
   "id": "e8fc227f-3421-4fce-b68d-43f5ae2a856f",
   "metadata": {},
   "outputs": [
    {
     "data": {
      "text/html": [
       "<div>\n",
       "<style scoped>\n",
       "    .dataframe tbody tr th:only-of-type {\n",
       "        vertical-align: middle;\n",
       "    }\n",
       "\n",
       "    .dataframe tbody tr th {\n",
       "        vertical-align: top;\n",
       "    }\n",
       "\n",
       "    .dataframe thead th {\n",
       "        text-align: right;\n",
       "    }\n",
       "</style>\n",
       "<table border=\"1\" class=\"dataframe\">\n",
       "  <thead>\n",
       "    <tr style=\"text-align: right;\">\n",
       "      <th></th>\n",
       "      <th>PassengerId</th>\n",
       "      <th>Survived</th>\n",
       "      <th>Pclass</th>\n",
       "      <th>Name</th>\n",
       "      <th>Sex</th>\n",
       "      <th>Age</th>\n",
       "      <th>SibSp</th>\n",
       "      <th>Parch</th>\n",
       "      <th>Ticket</th>\n",
       "      <th>Fare</th>\n",
       "      <th>Cabin</th>\n",
       "      <th>Embarked</th>\n",
       "    </tr>\n",
       "  </thead>\n",
       "  <tbody>\n",
       "    <tr>\n",
       "      <th>0</th>\n",
       "      <td>1</td>\n",
       "      <td>0</td>\n",
       "      <td>3</td>\n",
       "      <td>Braund, Mr. Owen Harris</td>\n",
       "      <td>male</td>\n",
       "      <td>22.0</td>\n",
       "      <td>1</td>\n",
       "      <td>0</td>\n",
       "      <td>A/5 21171</td>\n",
       "      <td>7.2500</td>\n",
       "      <td>NaN</td>\n",
       "      <td>S</td>\n",
       "    </tr>\n",
       "    <tr>\n",
       "      <th>1</th>\n",
       "      <td>2</td>\n",
       "      <td>1</td>\n",
       "      <td>1</td>\n",
       "      <td>Cumings, Mrs. John Bradley (Florence Briggs Th...</td>\n",
       "      <td>female</td>\n",
       "      <td>38.0</td>\n",
       "      <td>1</td>\n",
       "      <td>0</td>\n",
       "      <td>PC 17599</td>\n",
       "      <td>71.2833</td>\n",
       "      <td>C85</td>\n",
       "      <td>C</td>\n",
       "    </tr>\n",
       "    <tr>\n",
       "      <th>2</th>\n",
       "      <td>3</td>\n",
       "      <td>1</td>\n",
       "      <td>3</td>\n",
       "      <td>Heikkinen, Miss. Laina</td>\n",
       "      <td>female</td>\n",
       "      <td>26.0</td>\n",
       "      <td>0</td>\n",
       "      <td>0</td>\n",
       "      <td>STON/O2. 3101282</td>\n",
       "      <td>7.9250</td>\n",
       "      <td>NaN</td>\n",
       "      <td>S</td>\n",
       "    </tr>\n",
       "    <tr>\n",
       "      <th>3</th>\n",
       "      <td>4</td>\n",
       "      <td>1</td>\n",
       "      <td>1</td>\n",
       "      <td>Futrelle, Mrs. Jacques Heath (Lily May Peel)</td>\n",
       "      <td>female</td>\n",
       "      <td>35.0</td>\n",
       "      <td>1</td>\n",
       "      <td>0</td>\n",
       "      <td>113803</td>\n",
       "      <td>53.1000</td>\n",
       "      <td>C123</td>\n",
       "      <td>S</td>\n",
       "    </tr>\n",
       "    <tr>\n",
       "      <th>4</th>\n",
       "      <td>5</td>\n",
       "      <td>0</td>\n",
       "      <td>3</td>\n",
       "      <td>Allen, Mr. William Henry</td>\n",
       "      <td>male</td>\n",
       "      <td>35.0</td>\n",
       "      <td>0</td>\n",
       "      <td>0</td>\n",
       "      <td>373450</td>\n",
       "      <td>8.0500</td>\n",
       "      <td>NaN</td>\n",
       "      <td>S</td>\n",
       "    </tr>\n",
       "  </tbody>\n",
       "</table>\n",
       "</div>"
      ],
      "text/plain": [
       "   PassengerId  Survived  Pclass  \\\n",
       "0            1         0       3   \n",
       "1            2         1       1   \n",
       "2            3         1       3   \n",
       "3            4         1       1   \n",
       "4            5         0       3   \n",
       "\n",
       "                                                Name     Sex   Age  SibSp  \\\n",
       "0                            Braund, Mr. Owen Harris    male  22.0      1   \n",
       "1  Cumings, Mrs. John Bradley (Florence Briggs Th...  female  38.0      1   \n",
       "2                             Heikkinen, Miss. Laina  female  26.0      0   \n",
       "3       Futrelle, Mrs. Jacques Heath (Lily May Peel)  female  35.0      1   \n",
       "4                           Allen, Mr. William Henry    male  35.0      0   \n",
       "\n",
       "   Parch            Ticket     Fare Cabin Embarked  \n",
       "0      0         A/5 21171   7.2500   NaN        S  \n",
       "1      0          PC 17599  71.2833   C85        C  \n",
       "2      0  STON/O2. 3101282   7.9250   NaN        S  \n",
       "3      0            113803  53.1000  C123        S  \n",
       "4      0            373450   8.0500   NaN        S  "
      ]
     },
     "execution_count": 35,
     "metadata": {},
     "output_type": "execute_result"
    }
   ],
   "source": [
    "train_data.head()"
   ]
  },
  {
   "cell_type": "code",
   "execution_count": 36,
   "id": "d9a28110-2b2f-49bd-877e-52245ee76d1d",
   "metadata": {},
   "outputs": [],
   "source": [
    "train_data.drop(['PassengerId', 'Name', 'Ticket', 'Embarked', 'Cabin'], axis='columns', inplace=True)\n",
    "train_data['Sex'].replace({'male': 1, 'female': 0}, inplace=True)\n",
    "train_data['Age'].fillna(train_data['Age'].dropna().mean(), inplace=True)"
   ]
  },
  {
   "cell_type": "code",
   "execution_count": 37,
   "id": "688708aa-00df-49ea-8006-94fb064dd597",
   "metadata": {},
   "outputs": [],
   "source": [
    "train_set, val_set = train_test_split(train_data, train_size=0.8)\n",
    "\n",
    "X_train = train_set.drop(['Survived'], axis=1)\n",
    "X_val = val_set.drop(['Survived'], axis=1)\n",
    "\n",
    "y_train = train_set['Survived']\n",
    "y_val = val_set['Survived']"
   ]
  },
  {
   "cell_type": "code",
   "execution_count": 38,
   "id": "9e81edf0-26be-41ed-828a-acd9c20a37c7",
   "metadata": {},
   "outputs": [
    {
     "name": "stdout",
     "output_type": "stream",
     "text": [
      "Survival Percentage: 37.5%\n"
     ]
    }
   ],
   "source": [
    "survival_percentage = ((y_train == 1).sum() / len(y_train)) * 100\n",
    "print(f'Survival Percentage: {round(survival_percentage, 1)}%')"
   ]
  },
  {
   "cell_type": "code",
   "execution_count": 39,
   "id": "fce6bfd2-6adb-4c59-89d0-49d8ea021eac",
   "metadata": {},
   "outputs": [],
   "source": [
    "from sklearn.linear_model import LinearRegression\n",
    "from sklearn.svm import SVC"
   ]
  },
  {
   "cell_type": "code",
   "execution_count": 40,
   "id": "41844676-4199-4732-8ded-8ffa4906e2c5",
   "metadata": {},
   "outputs": [],
   "source": [
    "lin_reg = LinearRegression()\n",
    "lin_reg_model = lin_reg.fit(X_train, y_train)"
   ]
  },
  {
   "cell_type": "code",
   "execution_count": 41,
   "id": "a1490a7b-91b5-4cd3-8f8f-1f9735590bfd",
   "metadata": {},
   "outputs": [],
   "source": [
    "test_data.drop(['PassengerId', 'Name', 'Ticket', 'Embarked', 'Cabin'], axis='columns', inplace=True)\n",
    "test_data['Sex'].replace({'male': 1, 'female': 0}, inplace=True)\n",
    "test_data['Age'].fillna(X_train['Age'].dropna().mean(), inplace=True)\n",
    "test_data['Fare'].fillna(test_data['Fare'].dropna().mean(), inplace=True)"
   ]
  },
  {
   "cell_type": "code",
   "execution_count": 42,
   "id": "ea4657e9-7c63-481f-9c02-beb1d943076b",
   "metadata": {
    "scrolled": true
   },
   "outputs": [],
   "source": [
    "pipeline = Pipeline([\n",
    "    ('scaler', StandardScaler()),\n",
    "    ('fit', SVC())\n",
    "])\n",
    "\n",
    "model = pipeline.fit(X_train, y_train)"
   ]
  },
  {
   "cell_type": "code",
   "execution_count": 43,
   "id": "d87688d8-50af-44dd-9e77-7e9d879a3e3e",
   "metadata": {
    "scrolled": true
   },
   "outputs": [],
   "source": [
    "predictions = model.predict(X_val)"
   ]
  },
  {
   "cell_type": "code",
   "execution_count": 44,
   "id": "bf4fde06-7800-4519-a68b-b23e4c02ac4a",
   "metadata": {
    "scrolled": true
   },
   "outputs": [
    {
     "data": {
      "text/plain": [
       "0.8715083798882681"
      ]
     },
     "execution_count": 44,
     "metadata": {},
     "output_type": "execute_result"
    }
   ],
   "source": [
    "accuracy_score(y_val, predictions)"
   ]
  },
  {
   "cell_type": "code",
   "execution_count": 45,
   "id": "72a8db41-ebd7-4e27-b583-2d1eac944f9b",
   "metadata": {
    "scrolled": true
   },
   "outputs": [
    {
     "name": "stdout",
     "output_type": "stream",
     "text": [
      "Fitting 10 folds for each of 16 candidates, totalling 160 fits\n",
      "[CV 1/10] END C=0.02, gamma=scale, kernel=linear;, score=0.778 total time=   0.0s\n",
      "[CV 2/10] END C=0.02, gamma=scale, kernel=linear;, score=0.778 total time=   0.0s\n",
      "[CV 3/10] END C=0.02, gamma=scale, kernel=linear;, score=0.789 total time=   0.0s\n",
      "[CV 4/10] END C=0.02, gamma=scale, kernel=linear;, score=0.732 total time=   0.0s\n",
      "[CV 5/10] END C=0.02, gamma=scale, kernel=linear;, score=0.817 total time=   0.0s\n",
      "[CV 6/10] END C=0.02, gamma=scale, kernel=linear;, score=0.704 total time=   0.0s\n",
      "[CV 7/10] END C=0.02, gamma=scale, kernel=linear;, score=0.803 total time=   0.0s\n",
      "[CV 8/10] END C=0.02, gamma=scale, kernel=linear;, score=0.732 total time=   0.0s\n",
      "[CV 9/10] END C=0.02, gamma=scale, kernel=linear;, score=0.845 total time=   0.0s\n",
      "[CV 10/10] END C=0.02, gamma=scale, kernel=linear;, score=0.789 total time=   0.0s\n",
      "[CV 1/10] END ..C=0.02, gamma=scale, kernel=rbf;, score=0.667 total time=   0.0s\n",
      "[CV 2/10] END ..C=0.02, gamma=scale, kernel=rbf;, score=0.653 total time=   0.0s\n",
      "[CV 3/10] END ..C=0.02, gamma=scale, kernel=rbf;, score=0.732 total time=   0.0s\n",
      "[CV 4/10] END ..C=0.02, gamma=scale, kernel=rbf;, score=0.718 total time=   0.0s\n",
      "[CV 5/10] END ..C=0.02, gamma=scale, kernel=rbf;, score=0.690 total time=   0.0s\n",
      "[CV 6/10] END ..C=0.02, gamma=scale, kernel=rbf;, score=0.676 total time=   0.0s\n",
      "[CV 7/10] END ..C=0.02, gamma=scale, kernel=rbf;, score=0.648 total time=   0.0s\n",
      "[CV 8/10] END ..C=0.02, gamma=scale, kernel=rbf;, score=0.676 total time=   0.0s\n",
      "[CV 9/10] END ..C=0.02, gamma=scale, kernel=rbf;, score=0.732 total time=   0.0s\n",
      "[CV 10/10] END .C=0.02, gamma=scale, kernel=rbf;, score=0.676 total time=   0.0s\n",
      "[CV 1/10] END .C=0.02, gamma=scale, kernel=poly;, score=0.667 total time=   0.0s\n",
      "[CV 2/10] END .C=0.02, gamma=scale, kernel=poly;, score=0.708 total time=   0.0s\n",
      "[CV 3/10] END .C=0.02, gamma=scale, kernel=poly;, score=0.704 total time=   0.0s\n",
      "[CV 4/10] END .C=0.02, gamma=scale, kernel=poly;, score=0.648 total time=   0.0s\n",
      "[CV 5/10] END .C=0.02, gamma=scale, kernel=poly;, score=0.676 total time=   0.0s\n",
      "[CV 6/10] END .C=0.02, gamma=scale, kernel=poly;, score=0.676 total time=   0.0s\n",
      "[CV 7/10] END .C=0.02, gamma=scale, kernel=poly;, score=0.732 total time=   0.0s\n",
      "[CV 8/10] END .C=0.02, gamma=scale, kernel=poly;, score=0.662 total time=   0.0s\n",
      "[CV 9/10] END .C=0.02, gamma=scale, kernel=poly;, score=0.732 total time=   0.0s\n",
      "[CV 10/10] END C=0.02, gamma=scale, kernel=poly;, score=0.662 total time=   0.0s\n",
      "[CV 1/10] END C=0.02, gamma=scale, kernel=sigmoid;, score=0.778 total time=   0.0s\n",
      "[CV 2/10] END C=0.02, gamma=scale, kernel=sigmoid;, score=0.764 total time=   0.0s\n",
      "[CV 3/10] END C=0.02, gamma=scale, kernel=sigmoid;, score=0.789 total time=   0.0s\n",
      "[CV 4/10] END C=0.02, gamma=scale, kernel=sigmoid;, score=0.718 total time=   0.0s\n",
      "[CV 5/10] END C=0.02, gamma=scale, kernel=sigmoid;, score=0.817 total time=   0.0s\n",
      "[CV 6/10] END C=0.02, gamma=scale, kernel=sigmoid;, score=0.704 total time=   0.0s\n",
      "[CV 7/10] END C=0.02, gamma=scale, kernel=sigmoid;, score=0.803 total time=   0.0s\n",
      "[CV 8/10] END C=0.02, gamma=scale, kernel=sigmoid;, score=0.732 total time=   0.0s\n",
      "[CV 9/10] END C=0.02, gamma=scale, kernel=sigmoid;, score=0.817 total time=   0.0s\n",
      "[CV 10/10] END C=0.02, gamma=scale, kernel=sigmoid;, score=0.775 total time=   0.0s\n",
      "[CV 1/10] END C=0.04, gamma=scale, kernel=linear;, score=0.778 total time=   0.0s\n",
      "[CV 2/10] END C=0.04, gamma=scale, kernel=linear;, score=0.778 total time=   0.0s\n",
      "[CV 3/10] END C=0.04, gamma=scale, kernel=linear;, score=0.789 total time=   0.0s\n",
      "[CV 4/10] END C=0.04, gamma=scale, kernel=linear;, score=0.732 total time=   0.0s\n",
      "[CV 5/10] END C=0.04, gamma=scale, kernel=linear;, score=0.817 total time=   0.0s\n",
      "[CV 6/10] END C=0.04, gamma=scale, kernel=linear;, score=0.704 total time=   0.0s\n",
      "[CV 7/10] END C=0.04, gamma=scale, kernel=linear;, score=0.803 total time=   0.0s\n",
      "[CV 8/10] END C=0.04, gamma=scale, kernel=linear;, score=0.732 total time=   0.0s\n",
      "[CV 9/10] END C=0.04, gamma=scale, kernel=linear;, score=0.845 total time=   0.0s\n",
      "[CV 10/10] END C=0.04, gamma=scale, kernel=linear;, score=0.789 total time=   0.0s\n",
      "[CV 1/10] END ..C=0.04, gamma=scale, kernel=rbf;, score=0.750 total time=   0.0s\n",
      "[CV 2/10] END ..C=0.04, gamma=scale, kernel=rbf;, score=0.778 total time=   0.0s\n",
      "[CV 3/10] END ..C=0.04, gamma=scale, kernel=rbf;, score=0.775 total time=   0.0s\n",
      "[CV 4/10] END ..C=0.04, gamma=scale, kernel=rbf;, score=0.761 total time=   0.0s\n",
      "[CV 5/10] END ..C=0.04, gamma=scale, kernel=rbf;, score=0.845 total time=   0.0s\n",
      "[CV 6/10] END ..C=0.04, gamma=scale, kernel=rbf;, score=0.690 total time=   0.0s\n",
      "[CV 7/10] END ..C=0.04, gamma=scale, kernel=rbf;, score=0.817 total time=   0.0s\n",
      "[CV 8/10] END ..C=0.04, gamma=scale, kernel=rbf;, score=0.746 total time=   0.0s\n",
      "[CV 9/10] END ..C=0.04, gamma=scale, kernel=rbf;, score=0.845 total time=   0.0s\n",
      "[CV 10/10] END .C=0.04, gamma=scale, kernel=rbf;, score=0.789 total time=   0.0s\n",
      "[CV 1/10] END .C=0.04, gamma=scale, kernel=poly;, score=0.694 total time=   0.0s\n",
      "[CV 2/10] END .C=0.04, gamma=scale, kernel=poly;, score=0.750 total time=   0.0s\n",
      "[CV 3/10] END .C=0.04, gamma=scale, kernel=poly;, score=0.761 total time=   0.0s\n",
      "[CV 4/10] END .C=0.04, gamma=scale, kernel=poly;, score=0.690 total time=   0.0s\n",
      "[CV 5/10] END .C=0.04, gamma=scale, kernel=poly;, score=0.746 total time=   0.0s\n",
      "[CV 6/10] END .C=0.04, gamma=scale, kernel=poly;, score=0.676 total time=   0.0s\n",
      "[CV 7/10] END .C=0.04, gamma=scale, kernel=poly;, score=0.718 total time=   0.0s\n",
      "[CV 8/10] END .C=0.04, gamma=scale, kernel=poly;, score=0.676 total time=   0.0s\n",
      "[CV 9/10] END .C=0.04, gamma=scale, kernel=poly;, score=0.789 total time=   0.0s\n",
      "[CV 10/10] END C=0.04, gamma=scale, kernel=poly;, score=0.746 total time=   0.0s\n",
      "[CV 1/10] END C=0.04, gamma=scale, kernel=sigmoid;, score=0.778 total time=   0.0s\n",
      "[CV 2/10] END C=0.04, gamma=scale, kernel=sigmoid;, score=0.778 total time=   0.0s\n",
      "[CV 3/10] END C=0.04, gamma=scale, kernel=sigmoid;, score=0.789 total time=   0.0s\n",
      "[CV 4/10] END C=0.04, gamma=scale, kernel=sigmoid;, score=0.732 total time=   0.0s\n",
      "[CV 5/10] END C=0.04, gamma=scale, kernel=sigmoid;, score=0.817 total time=   0.0s\n",
      "[CV 6/10] END C=0.04, gamma=scale, kernel=sigmoid;, score=0.704 total time=   0.0s\n",
      "[CV 7/10] END C=0.04, gamma=scale, kernel=sigmoid;, score=0.803 total time=   0.0s\n",
      "[CV 8/10] END C=0.04, gamma=scale, kernel=sigmoid;, score=0.732 total time=   0.0s\n",
      "[CV 9/10] END C=0.04, gamma=scale, kernel=sigmoid;, score=0.831 total time=   0.0s\n",
      "[CV 10/10] END C=0.04, gamma=scale, kernel=sigmoid;, score=0.789 total time=   0.0s\n",
      "[CV 1/10] END C=0.06, gamma=scale, kernel=linear;, score=0.778 total time=   0.0s\n",
      "[CV 2/10] END C=0.06, gamma=scale, kernel=linear;, score=0.778 total time=   0.0s\n",
      "[CV 3/10] END C=0.06, gamma=scale, kernel=linear;, score=0.789 total time=   0.0s\n",
      "[CV 4/10] END C=0.06, gamma=scale, kernel=linear;, score=0.732 total time=   0.0s\n",
      "[CV 5/10] END C=0.06, gamma=scale, kernel=linear;, score=0.817 total time=   0.0s\n",
      "[CV 6/10] END C=0.06, gamma=scale, kernel=linear;, score=0.704 total time=   0.0s\n",
      "[CV 7/10] END C=0.06, gamma=scale, kernel=linear;, score=0.803 total time=   0.0s\n",
      "[CV 8/10] END C=0.06, gamma=scale, kernel=linear;, score=0.732 total time=   0.0s\n",
      "[CV 9/10] END C=0.06, gamma=scale, kernel=linear;, score=0.845 total time=   0.0s\n",
      "[CV 10/10] END C=0.06, gamma=scale, kernel=linear;, score=0.789 total time=   0.0s\n",
      "[CV 1/10] END ..C=0.06, gamma=scale, kernel=rbf;, score=0.750 total time=   0.0s\n",
      "[CV 2/10] END ..C=0.06, gamma=scale, kernel=rbf;, score=0.778 total time=   0.0s\n",
      "[CV 3/10] END ..C=0.06, gamma=scale, kernel=rbf;, score=0.775 total time=   0.0s\n",
      "[CV 4/10] END ..C=0.06, gamma=scale, kernel=rbf;, score=0.775 total time=   0.0s\n",
      "[CV 5/10] END ..C=0.06, gamma=scale, kernel=rbf;, score=0.845 total time=   0.0s\n",
      "[CV 6/10] END ..C=0.06, gamma=scale, kernel=rbf;, score=0.690 total time=   0.0s\n",
      "[CV 7/10] END ..C=0.06, gamma=scale, kernel=rbf;, score=0.817 total time=   0.0s\n",
      "[CV 8/10] END ..C=0.06, gamma=scale, kernel=rbf;, score=0.746 total time=   0.0s\n",
      "[CV 9/10] END ..C=0.06, gamma=scale, kernel=rbf;, score=0.845 total time=   0.0s\n",
      "[CV 10/10] END .C=0.06, gamma=scale, kernel=rbf;, score=0.789 total time=   0.0s\n",
      "[CV 1/10] END .C=0.06, gamma=scale, kernel=poly;, score=0.708 total time=   0.0s\n",
      "[CV 2/10] END .C=0.06, gamma=scale, kernel=poly;, score=0.764 total time=   0.0s\n",
      "[CV 3/10] END .C=0.06, gamma=scale, kernel=poly;, score=0.761 total time=   0.0s\n",
      "[CV 4/10] END .C=0.06, gamma=scale, kernel=poly;, score=0.690 total time=   0.0s\n",
      "[CV 5/10] END .C=0.06, gamma=scale, kernel=poly;, score=0.761 total time=   0.0s\n",
      "[CV 6/10] END .C=0.06, gamma=scale, kernel=poly;, score=0.676 total time=   0.0s\n",
      "[CV 7/10] END .C=0.06, gamma=scale, kernel=poly;, score=0.718 total time=   0.0s\n",
      "[CV 8/10] END .C=0.06, gamma=scale, kernel=poly;, score=0.690 total time=   0.0s\n",
      "[CV 9/10] END .C=0.06, gamma=scale, kernel=poly;, score=0.775 total time=   0.0s\n",
      "[CV 10/10] END C=0.06, gamma=scale, kernel=poly;, score=0.775 total time=   0.0s\n",
      "[CV 1/10] END C=0.06, gamma=scale, kernel=sigmoid;, score=0.778 total time=   0.0s\n",
      "[CV 2/10] END C=0.06, gamma=scale, kernel=sigmoid;, score=0.778 total time=   0.0s\n",
      "[CV 3/10] END C=0.06, gamma=scale, kernel=sigmoid;, score=0.789 total time=   0.0s\n",
      "[CV 4/10] END C=0.06, gamma=scale, kernel=sigmoid;, score=0.718 total time=   0.0s\n",
      "[CV 5/10] END C=0.06, gamma=scale, kernel=sigmoid;, score=0.817 total time=   0.0s\n",
      "[CV 6/10] END C=0.06, gamma=scale, kernel=sigmoid;, score=0.704 total time=   0.0s\n",
      "[CV 7/10] END C=0.06, gamma=scale, kernel=sigmoid;, score=0.803 total time=   0.0s\n",
      "[CV 8/10] END C=0.06, gamma=scale, kernel=sigmoid;, score=0.732 total time=   0.0s\n",
      "[CV 9/10] END C=0.06, gamma=scale, kernel=sigmoid;, score=0.817 total time=   0.0s\n",
      "[CV 10/10] END C=0.06, gamma=scale, kernel=sigmoid;, score=0.775 total time=   0.0s\n",
      "[CV 1/10] END C=0.08, gamma=scale, kernel=linear;, score=0.778 total time=   0.0s\n",
      "[CV 2/10] END C=0.08, gamma=scale, kernel=linear;, score=0.778 total time=   0.0s\n",
      "[CV 3/10] END C=0.08, gamma=scale, kernel=linear;, score=0.789 total time=   0.0s\n",
      "[CV 4/10] END C=0.08, gamma=scale, kernel=linear;, score=0.732 total time=   0.0s\n",
      "[CV 5/10] END C=0.08, gamma=scale, kernel=linear;, score=0.817 total time=   0.0s\n",
      "[CV 6/10] END C=0.08, gamma=scale, kernel=linear;, score=0.704 total time=   0.0s\n",
      "[CV 7/10] END C=0.08, gamma=scale, kernel=linear;, score=0.803 total time=   0.0s\n",
      "[CV 8/10] END C=0.08, gamma=scale, kernel=linear;, score=0.732 total time=   0.0s\n",
      "[CV 9/10] END C=0.08, gamma=scale, kernel=linear;, score=0.845 total time=   0.0s\n",
      "[CV 10/10] END C=0.08, gamma=scale, kernel=linear;, score=0.789 total time=   0.0s\n",
      "[CV 1/10] END ..C=0.08, gamma=scale, kernel=rbf;, score=0.764 total time=   0.0s\n",
      "[CV 2/10] END ..C=0.08, gamma=scale, kernel=rbf;, score=0.778 total time=   0.0s\n",
      "[CV 3/10] END ..C=0.08, gamma=scale, kernel=rbf;, score=0.775 total time=   0.0s\n",
      "[CV 4/10] END ..C=0.08, gamma=scale, kernel=rbf;, score=0.775 total time=   0.0s\n",
      "[CV 5/10] END ..C=0.08, gamma=scale, kernel=rbf;, score=0.845 total time=   0.0s\n",
      "[CV 6/10] END ..C=0.08, gamma=scale, kernel=rbf;, score=0.704 total time=   0.0s\n",
      "[CV 7/10] END ..C=0.08, gamma=scale, kernel=rbf;, score=0.803 total time=   0.0s\n",
      "[CV 8/10] END ..C=0.08, gamma=scale, kernel=rbf;, score=0.746 total time=   0.0s\n",
      "[CV 9/10] END ..C=0.08, gamma=scale, kernel=rbf;, score=0.859 total time=   0.0s\n",
      "[CV 10/10] END .C=0.08, gamma=scale, kernel=rbf;, score=0.789 total time=   0.0s\n",
      "[CV 1/10] END .C=0.08, gamma=scale, kernel=poly;, score=0.708 total time=   0.0s\n",
      "[CV 2/10] END .C=0.08, gamma=scale, kernel=poly;, score=0.764 total time=   0.0s\n",
      "[CV 3/10] END .C=0.08, gamma=scale, kernel=poly;, score=0.761 total time=   0.0s\n",
      "[CV 4/10] END .C=0.08, gamma=scale, kernel=poly;, score=0.690 total time=   0.0s\n",
      "[CV 5/10] END .C=0.08, gamma=scale, kernel=poly;, score=0.761 total time=   0.0s\n",
      "[CV 6/10] END .C=0.08, gamma=scale, kernel=poly;, score=0.676 total time=   0.0s\n",
      "[CV 7/10] END .C=0.08, gamma=scale, kernel=poly;, score=0.718 total time=   0.0s\n",
      "[CV 8/10] END .C=0.08, gamma=scale, kernel=poly;, score=0.690 total time=   0.0s\n",
      "[CV 9/10] END .C=0.08, gamma=scale, kernel=poly;, score=0.775 total time=   0.0s\n",
      "[CV 10/10] END C=0.08, gamma=scale, kernel=poly;, score=0.775 total time=   0.0s\n",
      "[CV 1/10] END C=0.08, gamma=scale, kernel=sigmoid;, score=0.778 total time=   0.0s\n",
      "[CV 2/10] END C=0.08, gamma=scale, kernel=sigmoid;, score=0.764 total time=   0.0s\n",
      "[CV 3/10] END C=0.08, gamma=scale, kernel=sigmoid;, score=0.789 total time=   0.0s\n",
      "[CV 4/10] END C=0.08, gamma=scale, kernel=sigmoid;, score=0.718 total time=   0.0s\n",
      "[CV 5/10] END C=0.08, gamma=scale, kernel=sigmoid;, score=0.817 total time=   0.0s\n",
      "[CV 6/10] END C=0.08, gamma=scale, kernel=sigmoid;, score=0.690 total time=   0.0s\n",
      "[CV 7/10] END C=0.08, gamma=scale, kernel=sigmoid;, score=0.803 total time=   0.0s\n",
      "[CV 8/10] END C=0.08, gamma=scale, kernel=sigmoid;, score=0.732 total time=   0.0s\n",
      "[CV 9/10] END C=0.08, gamma=scale, kernel=sigmoid;, score=0.817 total time=   0.0s\n",
      "[CV 10/10] END C=0.08, gamma=scale, kernel=sigmoid;, score=0.775 total time=   0.0s\n",
      "{'C': 0.08, 'gamma': 'scale', 'kernel': 'rbf'}\n"
     ]
    }
   ],
   "source": [
    "param_grid = {\n",
    "    'C': np.arange(0.02, 0.1, 0.02), \n",
    "    'kernel': ['linear', 'rbf', 'poly', 'sigmoid'],\n",
    "    'gamma': ['scale'] #, 'auto']\n",
    "}\n",
    "\n",
    "scaler = StandardScaler()\n",
    "X_train_scaled = scaler.fit_transform(X_train)\n",
    "\n",
    "grid_search = GridSearchCV(SVC(), param_grid, cv=10, verbose=3)\n",
    "grid_search.fit(X_train_scaled, y_train)\n",
    "\n",
    "print(grid_search.best_params_)"
   ]
  },
  {
   "cell_type": "code",
   "execution_count": 46,
   "id": "11ea53ad-828f-4e93-a918-45cc13c8361c",
   "metadata": {},
   "outputs": [
    {
     "name": "stderr",
     "output_type": "stream",
     "text": [
      "/home/jamnic/miniconda3/envs/homl3/lib/python3.10/site-packages/sklearn/base.py:458: UserWarning: X has feature names, but SVC was fitted without feature names\n",
      "  warnings.warn(\n"
     ]
    },
    {
     "data": {
      "text/plain": [
       "0.5810055865921788"
      ]
     },
     "execution_count": 46,
     "metadata": {},
     "output_type": "execute_result"
    }
   ],
   "source": [
    "svc_model = grid_search.best_estimator_\n",
    "predictions = svc_model.predict(X_val)\n",
    "acc_score = accuracy_score(y_val, predictions)\n",
    "acc_score"
   ]
  }
 ],
 "metadata": {
  "kernelspec": {
   "display_name": "Python 3 (ipykernel)",
   "language": "python",
   "name": "python3"
  },
  "language_info": {
   "codemirror_mode": {
    "name": "ipython",
    "version": 3
   },
   "file_extension": ".py",
   "mimetype": "text/x-python",
   "name": "python",
   "nbconvert_exporter": "python",
   "pygments_lexer": "ipython3",
   "version": "3.10.16"
  }
 },
 "nbformat": 4,
 "nbformat_minor": 5
}
